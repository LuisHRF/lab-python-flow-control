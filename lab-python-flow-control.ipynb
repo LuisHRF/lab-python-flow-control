{
 "cells": [
  {
   "cell_type": "markdown",
   "id": "d3bfc191-8885-42ee-b0a0-bbab867c6f9f",
   "metadata": {
    "tags": []
   },
   "source": [
    "# Lab | Flow Control"
   ]
  },
  {
   "cell_type": "markdown",
   "id": "3851fcd1-cf98-4653-9c89-e003b7ec9400",
   "metadata": {},
   "source": [
    "## Exercise: Managing Customer Orders Optimized\n",
    "\n",
    "In the last lab, you were starting an online store that sells various products. To ensure smooth operations, you developed a program that manages customer orders and inventory.\n",
    "\n",
    "You did so without using flow control. Let's go a step further and improve this code.\n",
    "\n",
    "Follow the steps below to complete the exercise:\n",
    "\n",
    "1. Look at your code from the lab data structures, and improve repeated code with loops.\n",
    "\n",
    "2. Instead of asking the user to input the name of three products that a customer wants to order, do the following:\n",
    "    \n",
    "    a. Prompt the user to enter the name of a product that a customer wants to order.\n",
    "    \n",
    "    b. Add the product name to the \"customer_orders\" set.\n",
    "    \n",
    "    c. Ask the user if they want to add another product (yes/no).\n",
    "    \n",
    "    d. Continue the loop until the user does not want to add another product.\n",
    "\n",
    "3. Instead of updating the inventory by subtracting 1 from the quantity of each product, only do it for  the products that were ordered (those in \"customer_orders\")."
   ]
  },
  {
   "cell_type": "code",
   "execution_count": 1,
   "id": "55bb2f20",
   "metadata": {},
   "outputs": [
    {
     "name": "stdout",
     "output_type": "stream",
     "text": [
      "Inventory: {'t-shirt': 15, 'mug': 23, 'hat': 31, 'book': 7, 'keychain': 12}\n"
     ]
    }
   ],
   "source": [
    "# Create products and inventory\n",
    "\n",
    "products = [\"t-shirt\", \"mug\", \"hat\", \"book\", \"keychain\"]\n",
    "\n",
    "inventory = {}\n",
    "\n",
    "for product in products:\n",
    "    quantity = int(input(f\"Write the quantity for {product}: \"))\n",
    "    inventory[product] = quantity\n",
    "print(f\"Inventory: {inventory}\")"
   ]
  },
  {
   "cell_type": "code",
   "execution_count": 2,
   "id": "c49b2346",
   "metadata": {},
   "outputs": [
    {
     "name": "stdout",
     "output_type": "stream",
     "text": [
      "Your order is: {'book', 't-shit', 'mug', 'keychain'}\n"
     ]
    }
   ],
   "source": [
    "# Create customer order\n",
    "\n",
    "customer_orders = set()\n",
    "\n",
    "while True:\n",
    "    product_order = input(\"Please, select a product: \")\n",
    "    customer_orders.add(product_order)\n",
    "\n",
    "    add_another_product = input(\"Do you wanto to add another product (yes/no)?\")\n",
    "    if add_another_product.lower() != \"yes\":\n",
    "        break\n",
    "\n",
    "print(f\"Your order is: {customer_orders}\")"
   ]
  },
  {
   "cell_type": "code",
   "execution_count": 3,
   "id": "a045aa64",
   "metadata": {},
   "outputs": [
    {
     "name": "stdout",
     "output_type": "stream",
     "text": [
      "Order Statistics:\n",
      "Total Products ordered: 4\n",
      "Percentage of Products Ordered: 80.0%\n"
     ]
    }
   ],
   "source": [
    "# Create order status\n",
    "\n",
    "total_ordered_products = len(customer_orders)\n",
    "percentage_ordered_products = (total_ordered_products / len(products)) * 100\n",
    "order_status = (total_ordered_products, percentage_ordered_products)\n",
    "\n",
    "print(\"Order Statistics:\")\n",
    "print(f\"Total Products ordered: {order_status[0]}\")\n",
    "print(f\"Percentage of Products Ordered: {order_status[1]}%\")"
   ]
  },
  {
   "cell_type": "code",
   "execution_count": 4,
   "id": "ee1fb057",
   "metadata": {},
   "outputs": [
    {
     "name": "stdout",
     "output_type": "stream",
     "text": [
      "Sorry, we don't have t-shit in our inventory.\n"
     ]
    }
   ],
   "source": [
    "# Substracting the order from the inventory\n",
    "\n",
    "for product in customer_orders:\n",
    "    if product in inventory and inventory[product] > 0:\n",
    "        inventory[product] -= 1\n",
    "    else:\n",
    "        print(f\"Sorry, we don't have {product} in our inventory.\")  "
   ]
  },
  {
   "cell_type": "code",
   "execution_count": 5,
   "id": "f8f5a9cf",
   "metadata": {},
   "outputs": [
    {
     "name": "stdout",
     "output_type": "stream",
     "text": [
      "t-shirt: 15\n",
      "mug: 22\n",
      "hat: 31\n",
      "book: 6\n",
      "keychain: 11\n"
     ]
    }
   ],
   "source": [
    "# Display updated inventory\n",
    "\n",
    "for product, quantity in inventory.items():\n",
    "    print(f\"{product}: {quantity}\")"
   ]
  }
 ],
 "metadata": {
  "kernelspec": {
   "display_name": "Python 3 (ipykernel)",
   "language": "python",
   "name": "python3"
  },
  "language_info": {
   "codemirror_mode": {
    "name": "ipython",
    "version": 3
   },
   "file_extension": ".py",
   "mimetype": "text/x-python",
   "name": "python",
   "nbconvert_exporter": "python",
   "pygments_lexer": "ipython3",
   "version": "3.12.4"
  }
 },
 "nbformat": 4,
 "nbformat_minor": 5
}
